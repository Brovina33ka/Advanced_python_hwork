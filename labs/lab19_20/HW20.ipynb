{
 "cells": [
  {
   "cell_type": "code",
   "execution_count": 3,
   "metadata": {},
   "outputs": [],
   "source": [
    "import sqlite3"
   ]
  },
  {
   "cell_type": "code",
   "execution_count": 4,
   "metadata": {},
   "outputs": [],
   "source": [
    "DB_NAME = \"biblio\""
   ]
  },
  {
   "cell_type": "markdown",
   "metadata": {},
   "source": [
    "# Sqlite3"
   ]
  },
  {
   "cell_type": "markdown",
   "metadata": {},
   "source": [
    "# More Data for the DB!"
   ]
  },
  {
   "cell_type": "code",
   "execution_count": 5,
   "metadata": {},
   "outputs": [],
   "source": [
    "connection = sqlite3.connect(DB_NAME)\n",
    "cursor = connection.cursor()\n",
    "\n",
    "cursor.execute(\n",
    "    '''\n",
    "    CREATE TABLE Book(\n",
    "        id INT PRIMARY KEY NOT NULL,\n",
    "        title TEXT,\n",
    "        author TEXT,\n",
    "        publish_year INT\n",
    "    )\n",
    "    '''\n",
    ")\n",
    "\n",
    "cursor.execute(\n",
    "    '''\n",
    "    INSERT INTO Book VALUES\n",
    "    (1, 'Harry Potter and the Philosopher''s Stone', 'J. K. Rowling', 1997),\n",
    "    (2, 'Методы решения задач в общем курсе физики, Механика', 'Корявов В.П.', 2007),\n",
    "    (3, 'Batman: Gotham by Gaslight', 'Brian Augustyn, Mike Mignola', 1989),\n",
    "    (4, 'Мёртвые души', 'Н. В. Гоголь', 1842),\n",
    "    (5, 'The Running Man', 'Richard Bachman', 1982)\n",
    "    '''\n",
    ")\n",
    "\n",
    "connection.commit()"
   ]
  },
  {
   "cell_type": "code",
   "execution_count": 6,
   "metadata": {},
   "outputs": [
    {
     "data": {
      "text/plain": [
       "<sqlite3.Cursor at 0x16a851dcab0>"
      ]
     },
     "execution_count": 6,
     "metadata": {},
     "output_type": "execute_result"
    }
   ],
   "source": [
    "cursor.execute(\n",
    "    '''\n",
    "    CREATE TABLE Reader(\n",
    "        id INT PRIMARY KEY NOT NULL,\n",
    "        name TEXT\n",
    "    )\n",
    "    '''\n",
    ")\n",
    "\n",
    "cursor.execute(\n",
    "    '''\n",
    "    INSERT INTO Reader VALUES\n",
    "    (1, 'V.V. Petrovich'),\n",
    "    (2, 'Alexanderr'),\n",
    "    (3, 'Arkadiy Svidrigaylov'),\n",
    "    (4, 'Vitalya'),\n",
    "    (5, 'Noname')\n",
    "    '''\n",
    ")"
   ]
  },
  {
   "cell_type": "code",
   "execution_count": 7,
   "metadata": {},
   "outputs": [
    {
     "data": {
      "text/plain": [
       "<sqlite3.Cursor at 0x16a851dcab0>"
      ]
     },
     "execution_count": 7,
     "metadata": {},
     "output_type": "execute_result"
    }
   ],
   "source": [
    "cursor.execute(\n",
    "    '''\n",
    "    CREATE TABLE Record(\n",
    "        id INT PRIMARY KEY NOT NULL,\n",
    "        reader_id INT REFERENCES Readers(id) NOT NULL,\n",
    "        book_id INT REFERENCES Books(id) NOT NULL,\n",
    "        taking_date TEXT,\n",
    "        returning_date TEXT\n",
    "    )\n",
    "    '''\n",
    ")"
   ]
  },
  {
   "cell_type": "code",
   "execution_count": 8,
   "metadata": {},
   "outputs": [
    {
     "data": {
      "text/plain": [
       "<sqlite3.Cursor at 0x16a851dcab0>"
      ]
     },
     "execution_count": 8,
     "metadata": {},
     "output_type": "execute_result"
    }
   ],
   "source": [
    "cursor.execute(\n",
    "    '''\n",
    "    INSERT INTO Record VALUES\n",
    "    (1, 3, 4, '1842-02-14', '1842-07-01'),\n",
    "    (2, 4, 4, '1996-10-26', NULL),\n",
    "    (3, 1, 2, '2006-06-13', '2006-06-14'),\n",
    "    (4, 1, 1, '2006-06-14', '2006-06-15'),\n",
    "    (5, 1, 3, '2006-06-15', '2006-07-20'),\n",
    "    (6, 2, 5, '1985-10-11', '1987-12-25'),\n",
    "    (7, 5, 3, '2001-03-15', NULL),\n",
    "    (8, 5, 3, '2002-09-19', '2002-09-25')\n",
    "    '''\n",
    ")"
   ]
  },
  {
   "cell_type": "code",
   "execution_count": 9,
   "metadata": {},
   "outputs": [],
   "source": [
    "connection.commit()\n",
    "connection.close()"
   ]
  },
  {
   "cell_type": "markdown",
   "metadata": {},
   "source": [
    "# ДЗ - лаба "
   ]
  },
  {
   "cell_type": "code",
   "execution_count": 10,
   "metadata": {},
   "outputs": [],
   "source": [
    "connection = sqlite3.connect(DB_NAME)\n",
    "cursor = connection.cursor()"
   ]
  },
  {
   "cell_type": "markdown",
   "metadata": {},
   "source": [
    "### Вывести список книг"
   ]
  },
  {
   "cell_type": "code",
   "execution_count": 11,
   "metadata": {},
   "outputs": [
    {
     "name": "stdout",
     "output_type": "stream",
     "text": [
      "1 Harry Potter and the Philosopher's Stone\n",
      "2 Методы решения задач в общем курсе физики, Механика\n",
      "3 Batman: Gotham by Gaslight\n",
      "4 Мёртвые души\n",
      "5 The Running Man\n"
     ]
    }
   ],
   "source": [
    "cursor.execute(\"SELECT * FROM Book\")\n",
    "for row in cursor.execute(\"SELECT id, title FROM Book\"):\n",
    "    print(*row)\n",
    "    "
   ]
  },
  {
   "cell_type": "code",
   "execution_count": 12,
   "metadata": {},
   "outputs": [],
   "source": [
    "connection.close()"
   ]
  },
  {
   "cell_type": "markdown",
   "metadata": {},
   "source": [
    "### Вывести список читателей"
   ]
  },
  {
   "cell_type": "code",
   "execution_count": 13,
   "metadata": {},
   "outputs": [],
   "source": [
    "connection = sqlite3.connect(DB_NAME)\n",
    "cursor = connection.cursor()"
   ]
  },
  {
   "cell_type": "code",
   "execution_count": 14,
   "metadata": {},
   "outputs": [
    {
     "name": "stdout",
     "output_type": "stream",
     "text": [
      "1 V.V. Petrovich\n",
      "2 Alexanderr\n",
      "3 Arkadiy Svidrigaylov\n",
      "4 Vitalya\n",
      "5 Noname\n"
     ]
    }
   ],
   "source": [
    "cursor.execute(\"SELECT * FROM Reader\")\n",
    "for row in cursor.execute(\"SELECT * FROM Reader\"):\n",
    "    print(*row)"
   ]
  },
  {
   "cell_type": "code",
   "execution_count": 15,
   "metadata": {},
   "outputs": [],
   "source": [
    "connection.close()"
   ]
  },
  {
   "cell_type": "markdown",
   "metadata": {},
   "source": [
    "### Добавить книгу"
   ]
  },
  {
   "cell_type": "code",
   "execution_count": 16,
   "metadata": {},
   "outputs": [],
   "source": [
    "connection = sqlite3.connect(DB_NAME)\n",
    "cursor = connection.cursor()"
   ]
  },
  {
   "cell_type": "code",
   "execution_count": 17,
   "metadata": {},
   "outputs": [],
   "source": [
    "cursor.execute(\"SELECT Count(*) FROM Book\")\n",
    "max_id = cursor.fetchone()[0]"
   ]
  },
  {
   "cell_type": "code",
   "execution_count": 18,
   "metadata": {},
   "outputs": [
    {
     "data": {
      "text/plain": [
       "<sqlite3.Cursor at 0x16a852138f0>"
      ]
     },
     "execution_count": 18,
     "metadata": {},
     "output_type": "execute_result"
    }
   ],
   "source": [
    "book1 = [\n",
    "    (max_id + 1, \"Hugo\", \"Boss\", 2007 ),    \n",
    "]\n",
    "\n",
    "connection.executemany(\n",
    "    \"INSERT INTO Book VALUES (?, ?, ?, ?)\",\n",
    "    book1\n",
    ")"
   ]
  },
  {
   "cell_type": "code",
   "execution_count": 19,
   "metadata": {},
   "outputs": [
    {
     "name": "stdout",
     "output_type": "stream",
     "text": [
      "1 Harry Potter and the Philosopher's Stone\n",
      "2 Методы решения задач в общем курсе физики, Механика\n",
      "3 Batman: Gotham by Gaslight\n",
      "4 Мёртвые души\n",
      "5 The Running Man\n",
      "6 Hugo\n"
     ]
    }
   ],
   "source": [
    "cursor.execute(\"SELECT * FROM Book\")\n",
    "for row in cursor.execute(\"SELECT id, title FROM Book\"):\n",
    "    print(*row)"
   ]
  },
  {
   "cell_type": "code",
   "execution_count": 20,
   "metadata": {},
   "outputs": [],
   "source": [
    "connection.close()"
   ]
  },
  {
   "cell_type": "markdown",
   "metadata": {},
   "source": [
    "### Добавить читателя"
   ]
  },
  {
   "cell_type": "code",
   "execution_count": 21,
   "metadata": {},
   "outputs": [
    {
     "data": {
      "text/plain": [
       "<sqlite3.Cursor at 0x16a85213e30>"
      ]
     },
     "execution_count": 21,
     "metadata": {},
     "output_type": "execute_result"
    }
   ],
   "source": [
    "connection = sqlite3.connect(DB_NAME)\n",
    "cursor = connection.cursor()\n",
    "\n",
    "cursor.execute(\"SELECT Count(*) FROM Reader\")\n",
    "max_id_R = cursor.fetchone()[0]\n",
    "\n",
    "pearson1 = [\n",
    "    (max_id_R + 1, \"Petr Pavlovitch\" )   \n",
    "]\n",
    "\n",
    "connection.executemany(\n",
    "    \"INSERT INTO Reader VALUES (?, ?)\",\n",
    "    pearson1\n",
    ")"
   ]
  },
  {
   "cell_type": "code",
   "execution_count": 22,
   "metadata": {},
   "outputs": [
    {
     "name": "stdout",
     "output_type": "stream",
     "text": [
      "1 V.V. Petrovich\n",
      "2 Alexanderr\n",
      "3 Arkadiy Svidrigaylov\n",
      "4 Vitalya\n",
      "5 Noname\n",
      "6 Petr Pavlovitch\n"
     ]
    }
   ],
   "source": [
    "cursor.execute(\"SELECT * FROM Reader\")\n",
    "for row in cursor.execute(\"SELECT * FROM Reader\"):\n",
    "    print(*row)"
   ]
  },
  {
   "cell_type": "code",
   "execution_count": 23,
   "metadata": {},
   "outputs": [],
   "source": [
    "connection.close()"
   ]
  },
  {
   "cell_type": "markdown",
   "metadata": {},
   "source": [
    "### Выдать книгу читателю"
   ]
  },
  {
   "cell_type": "code",
   "execution_count": 24,
   "metadata": {},
   "outputs": [],
   "source": [
    "connection = sqlite3.connect(DB_NAME)\n",
    "cursor = connection.cursor()"
   ]
  },
  {
   "cell_type": "code",
   "execution_count": 25,
   "metadata": {},
   "outputs": [],
   "source": [
    "cursor.execute(\"SELECT Count(*) FROM Record\")\n",
    "max_id_Rec = cursor.fetchone()[0]\n",
    "connection.close()"
   ]
  },
  {
   "cell_type": "code",
   "execution_count": 26,
   "metadata": {},
   "outputs": [
    {
     "data": {
      "text/plain": [
       "<sqlite3.Cursor at 0x16a852243b0>"
      ]
     },
     "execution_count": 26,
     "metadata": {},
     "output_type": "execute_result"
    }
   ],
   "source": [
    "connection = sqlite3.connect(DB_NAME)\n",
    "cursor = connection.cursor()\n",
    "#CREATE TABLE Record( id INT PRIMARY KEY NOT NULL, reader_id INT REFERENCES Readers(id) NOT NULL, \n",
    "#book_id INT REFERENCES Books(id) NOT NULL,\n",
    "        #taking_date TEXT,\n",
    "        #returning_date TEXT)\n",
    "\n",
    "\n",
    "record6 = [\n",
    "    (max_id_Rec + 1, 1, 3, '2222-03-13', None)   \n",
    "]\n",
    "\n",
    "connection.executemany(\n",
    "    \"INSERT INTO Record VALUES (?, ?, ?, ?, ?)\",\n",
    "    record6\n",
    ")"
   ]
  },
  {
   "cell_type": "code",
   "execution_count": 27,
   "metadata": {},
   "outputs": [
    {
     "name": "stdout",
     "output_type": "stream",
     "text": [
      "1 3 4 1842-02-14 1842-07-01\n",
      "2 4 4 1996-10-26 None\n",
      "3 1 2 2006-06-13 2006-06-14\n",
      "4 1 1 2006-06-14 2006-06-15\n",
      "5 1 3 2006-06-15 2006-07-20\n",
      "6 2 5 1985-10-11 1987-12-25\n",
      "7 5 3 2001-03-15 None\n",
      "8 5 3 2002-09-19 2002-09-25\n",
      "9 1 3 2222-03-13 None\n"
     ]
    }
   ],
   "source": [
    "cursor.execute(\"SELECT * FROM Record\")\n",
    "for row in cursor.execute(\"SELECT * FROM Record\"):\n",
    "    print(*row)"
   ]
  },
  {
   "cell_type": "code",
   "execution_count": 28,
   "metadata": {},
   "outputs": [],
   "source": [
    "connection.close()"
   ]
  },
  {
   "cell_type": "markdown",
   "metadata": {},
   "source": [
    "### Принять книгу"
   ]
  },
  {
   "cell_type": "code",
   "execution_count": 29,
   "metadata": {},
   "outputs": [
    {
     "data": {
      "text/plain": [
       "<sqlite3.Cursor at 0x16a85224570>"
      ]
     },
     "execution_count": 29,
     "metadata": {},
     "output_type": "execute_result"
    }
   ],
   "source": [
    "connection = sqlite3.connect(DB_NAME)\n",
    "cursor = connection.cursor()\n",
    "#CREATE TABLE Record( id INT PRIMARY KEY NOT NULL, reader_id INT REFERENCES Readers(id) NOT NULL, \n",
    "#book_id INT REFERENCES Books(id) NOT NULL,\n",
    "        #taking_date TEXT,\n",
    "        #returning_date TEXT)\n",
    "\n",
    "\n",
    "record6 = [\n",
    "    (max_id_Rec + 1, 1, 3, '2222-03-13', '2222-03-15')   \n",
    "]\n",
    "\n",
    "connection.executemany(\n",
    "    \"INSERT INTO Record VALUES (?, ?, ?, ?, ?)\",\n",
    "    record6\n",
    ")"
   ]
  },
  {
   "cell_type": "code",
   "execution_count": 30,
   "metadata": {},
   "outputs": [
    {
     "name": "stdout",
     "output_type": "stream",
     "text": [
      "1 3 4 1842-02-14 1842-07-01\n",
      "2 4 4 1996-10-26 None\n",
      "3 1 2 2006-06-13 2006-06-14\n",
      "4 1 1 2006-06-14 2006-06-15\n",
      "5 1 3 2006-06-15 2006-07-20\n",
      "6 2 5 1985-10-11 1987-12-25\n",
      "7 5 3 2001-03-15 None\n",
      "8 5 3 2002-09-19 2002-09-25\n",
      "9 1 3 2222-03-13 2222-03-15\n"
     ]
    }
   ],
   "source": [
    "cursor.execute(\"SELECT * FROM Record\")\n",
    "for row in cursor.execute(\"SELECT * FROM Record\"):\n",
    "    print(*row)"
   ]
  },
  {
   "cell_type": "code",
   "execution_count": 31,
   "metadata": {},
   "outputs": [],
   "source": [
    "connection.close()"
   ]
  }
 ],
 "metadata": {
  "kernelspec": {
   "display_name": "Python 3",
   "language": "python",
   "name": "python3"
  },
  "language_info": {
   "codemirror_mode": {
    "name": "ipython",
    "version": 3
   },
   "file_extension": ".py",
   "mimetype": "text/x-python",
   "name": "python",
   "nbconvert_exporter": "python",
   "pygments_lexer": "ipython3",
   "version": "3.7.4"
  }
 },
 "nbformat": 4,
 "nbformat_minor": 5
}
